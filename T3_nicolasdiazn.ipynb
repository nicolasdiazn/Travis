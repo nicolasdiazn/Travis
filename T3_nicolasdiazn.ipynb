{
 "cells": [
  {
   "cell_type": "markdown",
   "metadata": {},
   "source": [
    "##  Tarea"
   ]
  },
  {
   "cell_type": "code",
   "execution_count": 1,
   "metadata": {
    "collapsed": true
   },
   "outputs": [],
   "source": [
    "using PyPlot"
   ]
  },
  {
   "cell_type": "markdown",
   "metadata": {},
   "source": [
    "Todo lo siguiente tiene que subirse a Travis"
   ]
  },
  {
   "cell_type": "markdown",
   "metadata": {},
   "source": [
    "1. Generar una matriz hermitiana de $n\\times n$, calcular sus eigenvectors, calcular los proyectores de los eigenvectores y comprobar que la suma es la identidad de $n\\times n$.\n"
   ]
  },
  {
   "cell_type": "code",
   "execution_count": 2,
   "metadata": {
    "collapsed": false
   },
   "outputs": [
    {
     "data": {
      "text/plain": [
       "4×4 Array{Complex{Float64},2}:\n",
       " 0.439984+0.0im        0.454211+0.729793im  …  0.283371+0.505594im\n",
       " 0.454211-0.729793im  0.0550944+0.0im          0.673644+0.954198im\n",
       " 0.706697-0.191874im   0.297667-0.76564im      0.690055+0.530747im\n",
       " 0.283371-0.505594im   0.673644-0.954198im     0.984045+0.0im     "
      ]
     },
     "execution_count": 2,
     "metadata": {},
     "output_type": "execute_result"
    }
   ],
   "source": [
    "function Hermitian(n)\n",
    "    #construimos primero una matriz cuadrada, nxn , con entradas en los complejos. \n",
    "    a=rand(n,n)+1im*rand(n,n)\n",
    "    #Posteriormente se utiliza la función triu(a,1) para obtener la matriz triangular superior a partir de la entrada 1\n",
    "    b=triu(a,1)\n",
    "    #Se construye la matriz M, la cual toma b (matriz triangular superior)+la transpuesta conjugada de b \n",
    "    #(es decir una matriz trian inferior) y luego le suma una diagonal rándom. \n",
    "    M=b+transpose(conj(b))+Diagonal(rand(n,n))\n",
    "    return M\n",
    "end\n",
    "Hermitian(4)"
   ]
  },
  {
   "cell_type": "code",
   "execution_count": 3,
   "metadata": {
    "collapsed": false
   },
   "outputs": [
    {
     "data": {
      "text/plain": [
       "\"Sí, es Hermitiana!\""
      ]
     },
     "execution_count": 3,
     "metadata": {},
     "output_type": "execute_result"
    }
   ],
   "source": [
    "#comprobamos que sea Hermitiana usando norm.\n",
    "function PruebaH(n)\n",
    "    A = Hermitian(n)\n",
    "    B = transpose(conj(A))\n",
    "    if norm(A-B) == 0\n",
    "        \"Sí, es Hermitiana!\"\n",
    "    end\n",
    "end\n",
    "PruebaH(100)"
   ]
  },
  {
   "cell_type": "code",
   "execution_count": 4,
   "metadata": {
    "collapsed": false
   },
   "outputs": [
    {
     "data": {
      "text/plain": [
       "5×5 Array{Complex{Float64},2}:\n",
       "                   1.0+0.0im  …   1.38778e-17+8.32667e-17im \n",
       " -8.32667e-17-2.63678e-16im        -1.38778e-16-2.498e-16im \n",
       "  1.38778e-16+1.94289e-16im      -1.04083e-16-2.77556e-17im \n",
       " -5.55112e-17-1.11022e-16im       8.32667e-17-5.55112e-17im \n",
       "  1.38778e-17-8.32667e-17im                        1.0+0.0im"
      ]
     },
     "execution_count": 4,
     "metadata": {},
     "output_type": "execute_result"
    }
   ],
   "source": [
    "function daga(state::Array{Complex{Float64},1})\n",
    "    return transpose(conj(state))\n",
    "end\n",
    "\n",
    "function proyector(n)\n",
    "    mat = Hermitian(n)\n",
    "    A = zeros(n,n)\n",
    "    V = eigvecs(mat)\n",
    "    for i in 1:n\n",
    "        A += kron(V[:,i], daga(V[:,i]))\n",
    "    end\n",
    "    return A\n",
    "end\n",
    "proyector(5)"
   ]
  },
  {
   "cell_type": "code",
   "execution_count": 5,
   "metadata": {
    "collapsed": false,
    "scrolled": true
   },
   "outputs": [
    {
     "data": {
      "text/plain": [
       "\"No, no es la identidad\""
      ]
     },
     "execution_count": 5,
     "metadata": {},
     "output_type": "execute_result"
    }
   ],
   "source": [
    "function identidad(n)\n",
    "    H = proyector(n)\n",
    "    I = eye(n)\n",
    "    if norm(H-I) == 0 \n",
    "        \"Sí, es la identidad\"\n",
    "    else \n",
    "        \"No, no es la identidad\"\n",
    "    end\n",
    "end\n",
    "identidad(100)"
   ]
  },
  {
   "cell_type": "markdown",
   "metadata": {},
   "source": [
    "2. Crear una matriz *hermitiana* y diagonalizarla. Utilizar `chop` si es necesario. \n",
    "    + Utilizar la función `expm` para calcular $\\exp(-i h)$ con $h$ la matriz que diagonalizaron. \n",
    "    + Calcular los eigenvalores de $\\exp(-i h)$.\n",
    "    + Calcular las fases de los eigenvalores que calcularon en el paso anterior.\n",
    "    + Hacer un histograma de estas fases."
   ]
  },
  {
   "cell_type": "code",
   "execution_count": 6,
   "metadata": {
    "collapsed": false
   },
   "outputs": [
    {
     "data": {
      "text/plain": [
       "3×3 Array{Complex{Float64},2}:\n",
       "  -0.593109-0.113997im  -0.274101+0.434793im  -0.413498-0.447291im\n",
       " -0.0285554-0.472947im   0.585792-0.422962im  -0.471864-0.175504im\n",
       "   0.640884+0.0im       -0.462358-0.0im       -0.612775-0.0im     "
      ]
     },
     "execution_count": 6,
     "metadata": {},
     "output_type": "execute_result"
    }
   ],
   "source": [
    "#Obtenemos los eigenvectores de nuestra matriz Hermitiana\n",
    "function EigH(n)\n",
    "    eigvecs(Hermitian(n))\n",
    "end\n",
    "EigH(3)"
   ]
  },
  {
   "cell_type": "code",
   "execution_count": 7,
   "metadata": {
    "collapsed": false
   },
   "outputs": [
    {
     "data": {
      "text/plain": [
       "4×4 Array{Complex{Float64},2}:\n",
       "  0.160156+0.120143im    -0.59076-0.1455im     …   0.0109198-0.461219im\n",
       " -0.365374+0.200173im    0.551846-0.251161im      -0.0652741-0.484977im\n",
       " -0.463399-0.450263im  -0.0970026-0.0317222im      -0.544674-0.280884im\n",
       "  0.607349+0.0im         0.501798+0.0im            -0.414884-0.0im     "
      ]
     },
     "execution_count": 7,
     "metadata": {},
     "output_type": "execute_result"
    }
   ],
   "source": [
    "#función que diagonalizará la matriz hermitiana que habíamos construido y luego usará chop\n",
    "function DiagChop(n, tol = 0.01)\n",
    "    v = eigvecs(Hermitian(n))\n",
    "    for i in eachindex(v)\n",
    "        if abs(v[i]) < tol\n",
    "            v[i] = 0\n",
    "        end\n",
    "    end\n",
    "    return v\n",
    "end\n",
    "DiagChop(4)"
   ]
  },
  {
   "cell_type": "code",
   "execution_count": 8,
   "metadata": {
    "collapsed": false
   },
   "outputs": [
    {
     "data": {
      "text/plain": [
       "3×3 Array{Complex{Float64},2}:\n",
       "   1.23558+0.670814im  -0.776438-0.309535im  -0.500294-0.222925im\n",
       " -0.931449-0.222776im    1.60249+0.653875im  -0.307944+0.215488im\n",
       "  0.199618-0.203918im   0.283278-0.528752im   0.809691+0.827522im"
      ]
     },
     "execution_count": 8,
     "metadata": {},
     "output_type": "execute_result"
    }
   ],
   "source": [
    "#Calcularemos ahora exp(-ih)\n",
    "function Expo(n)\n",
    "    A = expm(-1im*DiagChop(n))\n",
    "    A\n",
    "end\n",
    "Expo(3)"
   ]
  },
  {
   "cell_type": "code",
   "execution_count": 9,
   "metadata": {
    "collapsed": false
   },
   "outputs": [
    {
     "data": {
      "text/plain": [
       "3×3 Array{Complex{Float64},2}:\n",
       " 0.112619+0.483068im    0.789176+0.0im       0.152737-0.32838im \n",
       " 0.820895+0.0im        -0.103789+0.279309im  0.428674+0.231485im\n",
       " -0.26485+0.0997408im  -0.177057-0.507017im  0.794664+0.0im     "
      ]
     },
     "execution_count": 9,
     "metadata": {},
     "output_type": "execute_result"
    }
   ],
   "source": [
    "#calculamos lo eigenvectores\n",
    "R = eigvecs(Expo(3))"
   ]
  },
  {
   "cell_type": "code",
   "execution_count": 10,
   "metadata": {
    "collapsed": false,
    "scrolled": true
   },
   "outputs": [
    {
     "data": {
      "text/plain": [
       "3×3 Array{Float64,2}:\n",
       " 1.34175   0.0      -1.13544 \n",
       " 0.0       1.92658   0.495135\n",
       " 2.78143  -1.90677   0.0     "
      ]
     },
     "execution_count": 10,
     "metadata": {},
     "output_type": "execute_result"
    }
   ],
   "source": [
    "#Sólo para probar\n",
    "for i in eachindex(R)\n",
    "    RR = angle(R)\n",
    "    return RR\n",
    "end"
   ]
  },
  {
   "cell_type": "code",
   "execution_count": 11,
   "metadata": {
    "collapsed": false
   },
   "outputs": [
    {
     "data": {
      "text/plain": [
       "3×3 Array{Float64,2}:\n",
       " 1.34175   0.0      -1.13544 \n",
       " 0.0       1.92658   0.495135\n",
       " 2.78143  -1.90677   0.0     "
      ]
     },
     "execution_count": 11,
     "metadata": {},
     "output_type": "execute_result"
    }
   ],
   "source": [
    "#Más fácil con map\n",
    "L = map(angle,R)"
   ]
  },
  {
   "cell_type": "code",
   "execution_count": 12,
   "metadata": {
    "collapsed": false
   },
   "outputs": [
    {
     "data": {
      "image/png": "[encoded data removed]",
      "text/plain": [
       "PyPlot.Figure(PyObject <matplotlib.figure.Figure object at 0x7feff402afd0>)"
      ]
     },
     "metadata": {},
     "output_type": "display_data"
    },
    {
     "data": {
      "text/plain": [
       "PyObject <matplotlib.text.Text object at 0x7fefdbdadfd0>"
      ]
     },
     "execution_count": 12,
     "metadata": {},
     "output_type": "execute_result"
    }
   ],
   "source": [
    "#Unimos todo lo anterior en una sola función.\n",
    "function Histogram(n)\n",
    "    Arr = Float64[]\n",
    "    JJ = eigvecs(Expo(n))\n",
    "    OO = map(angle, JJ)\n",
    "    for i in eachindex(OO)\n",
    "        push!(Arr,OO[i])\n",
    "    end\n",
    "    plt[:hist](Arr,22)\n",
    "    grid(\"on\")\n",
    "    title(\"Hisograma de las fases\")\n",
    "    \n",
    "end\n",
    "\n",
    "#Finalmente lo probamos con n = 100\n",
    "Histogram(100)"
   ]
  },
  {
   "cell_type": "code",
   "execution_count": null,
   "metadata": {
    "collapsed": true
   },
   "outputs": [],
   "source": []
  }
 ],
 "metadata": {
  "anaconda-cloud": {},
  "kernelspec": {
   "display_name": "Julia 0.4.5",
   "language": "julia",
   "name": "julia-0.4"
  },
  "language_info": {
   "file_extension": ".jl",
   "mimetype": "application/julia",
   "name": "julia",
   "version": "0.5.0"
  }
 },
 "nbformat": 4,
 "nbformat_minor": 0
}
